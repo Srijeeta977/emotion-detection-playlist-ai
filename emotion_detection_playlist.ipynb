{
  "cells": [
    {
      "cell_type": "code",
      "execution_count": 7,
      "metadata": {
        "colab": {
          "base_uri": "https://localhost:8080/",
          "height": 71
        },
        "id": "pwXQtq7ZY0Lp",
        "outputId": "c4a84e88-68ff-429e-ac2b-98be8d3fc023"
      },
      "outputs": [
        {
          "output_type": "display_data",
          "data": {
            "text/plain": [
              "<IPython.core.display.Javascript object>"
            ],
            "application/javascript": [
              "\n",
              "    async function takePhoto(quality) {\n",
              "      const div = document.createElement('div');\n",
              "      const capture = document.createElement('button');\n",
              "      capture.textContent = 'Capture';\n",
              "      div.appendChild(capture);\n",
              "\n",
              "      const video = document.createElement('video');\n",
              "      video.style.display = 'block';\n",
              "      const stream = await navigator.mediaDevices.getUserMedia({video: true});\n",
              "\n",
              "      document.body.appendChild(div);\n",
              "      div.appendChild(video);\n",
              "      video.srcObject = stream;\n",
              "      await video.play();\n",
              "\n",
              "      google.colab.output.setIframeHeight(document.documentElement.scrollHeight, true);\n",
              "\n",
              "      await new Promise((resolve) => capture.onclick = resolve);\n",
              "\n",
              "      const canvas = document.createElement('canvas');\n",
              "      canvas.width = video.videoWidth;\n",
              "      canvas.height = video.videoHeight;\n",
              "      canvas.getContext('2d').drawImage(video, 0, 0);\n",
              "      stream.getVideoTracks()[0].stop();\n",
              "      div.remove();\n",
              "      return canvas.toDataURL('image/jpeg', quality);\n",
              "    }\n",
              "  "
            ]
          },
          "metadata": {}
        },
        {
          "output_type": "stream",
          "name": "stdout",
          "text": [
            "Photo captured and saved as: photo.jpg\n",
            "Detected Emotion: happy\n",
            "Opening happy playlist: https://www.youtube.com/watch?v=ZbZSe6N_BXs&list=PLF797E961509B4EB5\n"
          ]
        }
      ],
      "source": [
        "!pip install deepface opencv-python pytube --quiet\n",
        "\n",
        "\n",
        "from IPython.display import display, Javascript\n",
        "from google.colab.output import eval_js\n",
        "from base64 import b64decode\n",
        "import cv2\n",
        "import numpy as np\n",
        "from PIL import Image\n",
        "import io\n",
        "\n",
        "def take_photo(filename='photo.jpg', quality=0.8):\n",
        "  js = Javascript('''\n",
        "    async function takePhoto(quality) {\n",
        "      const div = document.createElement('div');\n",
        "      const capture = document.createElement('button');\n",
        "      capture.textContent = 'Capture';\n",
        "      div.appendChild(capture);\n",
        "\n",
        "      const video = document.createElement('video');\n",
        "      video.style.display = 'block';\n",
        "      const stream = await navigator.mediaDevices.getUserMedia({video: true});\n",
        "\n",
        "      document.body.appendChild(div);\n",
        "      div.appendChild(video);\n",
        "      video.srcObject = stream;\n",
        "      await video.play();\n",
        "\n",
        "      google.colab.output.setIframeHeight(document.documentElement.scrollHeight, true);\n",
        "\n",
        "      await new Promise((resolve) => capture.onclick = resolve);\n",
        "\n",
        "      const canvas = document.createElement('canvas');\n",
        "      canvas.width = video.videoWidth;\n",
        "      canvas.height = video.videoHeight;\n",
        "      canvas.getContext('2d').drawImage(video, 0, 0);\n",
        "      stream.getVideoTracks()[0].stop();\n",
        "      div.remove();\n",
        "      return canvas.toDataURL('image/jpeg', quality);\n",
        "    }\n",
        "  ''')\n",
        "  display(js)\n",
        "  data = eval_js('takePhoto({})'.format(quality))\n",
        "  binary = b64decode(data.split(',')[1])\n",
        "  with open(filename, 'wb') as f:\n",
        "    f.write(binary)\n",
        "  return filename\n",
        "\n",
        "\n",
        "filename = take_photo()\n",
        "print(\"Photo captured and saved as:\", filename)\n",
        "\n",
        "\n",
        "from deepface import DeepFace\n",
        "result = DeepFace.analyze(img_path=filename, actions=['emotion'])\n",
        "print(\"Detected Emotion:\", result[0]['dominant_emotion'])\n",
        "\n",
        "\n",
        "import webbrowser\n",
        "\n",
        "\n",
        "emotion_playlists = {\n",
        "    'happy': 'https://www.youtube.com/watch?v=ZbZSe6N_BXs&list=PLF797E961509B4EB5',\n",
        "    'sad': 'https://www.youtube.com/watch?v=ho9rZjlsyYY&list=PL5D7ECFAAC3D19638',\n",
        "    'angry': 'https://www.youtube.com/watch?v=d-diB65scQU&list=PL4C06BBEA15D39D1D',\n",
        "    'neutral': 'https://www.youtube.com/watch?v=3JWTaaS7LdU&list=PL8F6B0753B2CCA128',\n",
        "    'fear' : 'https://www.youtube.com/watch?v=xo1VInw-SKc&list=PLpxWKmiR9bcN6PZ6clo7QcU42f0hT0EmV',\n",
        "    'surprise': 'https://www.youtube.com/watch?v=Eo-KmOd3i7s',\n",
        "    'disgust': 'https://www.youtube.com/watch?v=lDK9QqIzhwk'\n",
        "\n",
        "}\n",
        "\n",
        "emotion = result[0]['dominant_emotion']\n",
        "playlist_url = emotion_playlists.get(emotion, None)\n",
        "\n",
        "if playlist_url:\n",
        "    print(f\"Opening {emotion} playlist:\", playlist_url)\n",
        "    webbrowser.open(playlist_url)\n",
        "else:\n",
        "    print(\"No playlist found for the detected emotion.\")\n",
        "\n",
        "\n"
      ]
    }
  ],
  "metadata": {
    "colab": {
      "provenance": []
    },
    "kernelspec": {
      "display_name": "Python 3",
      "name": "python3"
    },
    "language_info": {
      "name": "python"
    }
  },
  "nbformat": 4,
  "nbformat_minor": 0
}